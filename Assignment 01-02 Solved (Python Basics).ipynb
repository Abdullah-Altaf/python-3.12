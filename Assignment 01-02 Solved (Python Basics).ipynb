{
 "cells": [
  {
   "cell_type": "markdown",
   "metadata": {},
   "source": [
    "# Part -1 Python Basics (Variables)"
   ]
  },
  {
   "cell_type": "markdown",
   "metadata": {},
   "source": [
    "1. Print Your Name with your Father name and Date of birth using suitable escape sequence charactor"
   ]
  },
  {
   "cell_type": "code",
   "execution_count": 2,
   "metadata": {},
   "outputs": [
    {
     "name": "stdout",
     "output_type": "stream",
     "text": [
      "My Name is Abdullah\n",
      "My Father's Name is Altaf\n",
      "I was born on 29th January 2005\n"
     ]
    }
   ],
   "source": [
    "print(\"My Name is Abdullah\\nMy Father's Name is Altaf\\nI was born on 29th January 2005\")"
   ]
  },
  {
   "cell_type": "markdown",
   "metadata": {},
   "source": [
    "2. Write your small bio using variables and print it using print function"
   ]
  },
  {
   "cell_type": "code",
   "execution_count": 3,
   "metadata": {},
   "outputs": [
    {
     "name": "stdout",
     "output_type": "stream",
     "text": [
      "I'm a student of Information Security at NUST, Pakistan. I love programming and cybersecurity.\n"
     ]
    }
   ],
   "source": [
    "my_bio = \"I'm a student of Information Security at NUST, Pakistan. I love programming and cybersecurity.\"\n",
    "print(my_bio)"
   ]
  },
  {
   "cell_type": "markdown",
   "metadata": {},
   "source": [
    "3. Write a program in which use all the operators we can use in Python"
   ]
  },
  {
   "cell_type": "code",
   "execution_count": 6,
   "metadata": {},
   "outputs": [
    {
     "name": "stdout",
     "output_type": "stream",
     "text": [
      "Sum of  5  and  10  is  15\n",
      "Difference of  5  and  10  is  -5\n",
      "Product of  5  and  10  is  50\n",
      "Division of  10  and  5  is  2.0\n",
      "Remainder of  10  and  5  is  0\n"
     ]
    }
   ],
   "source": [
    "x = 5\n",
    "y = 10\n",
    "\n",
    "sum = x + y\n",
    "difference = x - y\n",
    "product = x * y\n",
    "divison = y / x\n",
    "remainder = y % x\n",
    "\n",
    "print(\"Sum of \",x,\" and \",y,\" is \",sum)\n",
    "print(\"Difference of \",x,\" and \",y,\" is \",difference)\n",
    "print(\"Product of \",x,\" and \",y,\" is \",product)\n",
    "print(\"Division of \",y,\" and \",x,\" is \",divison)\n",
    "print(\"Remainder of \",y,\" and \",x,\" is \",remainder)"
   ]
  },
  {
   "cell_type": "markdown",
   "metadata": {},
   "source": [
    "4. Completes the following steps of small task:\n",
    "    - Mention Marks of English , Islamiat and Maths out of 100 in 3 different variables\n",
    "    - Mention Variable of Total Marks and assign 300 to it\n",
    "    - Calculate Percentage"
   ]
  },
  {
   "cell_type": "code",
   "execution_count": 7,
   "metadata": {},
   "outputs": [
    {
     "name": "stdout",
     "output_type": "stream",
     "text": [
      "Percentage Obtained =  90.0 %\n"
     ]
    }
   ],
   "source": [
    "marks_of_english = 80\n",
    "marks_of_islamiat = 90\n",
    "marks_of_maths = 100\n",
    "\n",
    "total_marks = 300\n",
    "\n",
    "total_marks_obtained = marks_of_english + marks_of_islamiat + marks_of_maths\n",
    "\n",
    "percentage = (total_marks_obtained * 100) / total_marks\n",
    "\n",
    "print(\"Percentage Obtained = \",percentage,\"%\")"
   ]
  },
  {
   "cell_type": "markdown",
   "metadata": {},
   "source": [
    "# Part -2 Python Basics (Conditional Statements)"
   ]
  },
  {
   "cell_type": "markdown",
   "metadata": {},
   "source": [
    "1) A company decided to give bonus of 5% to employee if his/her year of service is more than 5 years.\n",
    "Ask user for their salary and year of service and print the net bonus amount."
   ]
  },
  {
   "cell_type": "code",
   "execution_count": 9,
   "metadata": {},
   "outputs": [
    {
     "name": "stdout",
     "output_type": "stream",
     "text": [
      "Congratulations, you are eligible for an amount of $ 75.0\n"
     ]
    }
   ],
   "source": [
    "salary = int(input(\"Enter your Salary: \"))\n",
    "service = int(input(\"How many Years have you served: \"))\n",
    "\n",
    "if service > 5:\n",
    "    eligible_bonus_amount = (5/100) * salary\n",
    "    print(\"Congratulations, you are eligible for an amount of $\",eligible_bonus_amount)\n",
    "else:\n",
    "    print(\"Sorry, you are not eligible for any bonus\")"
   ]
  },
  {
   "cell_type": "markdown",
   "metadata": {},
   "source": [
    "\n",
    "2) Write a program to check whether a person is eligible for voting or not. (accept age from user) if age is greater than 17 eligible otherwise not eligible"
   ]
  },
  {
   "cell_type": "code",
   "execution_count": 10,
   "metadata": {},
   "outputs": [
    {
     "name": "stdout",
     "output_type": "stream",
     "text": [
      "You are Eligible to Vote!\n"
     ]
    }
   ],
   "source": [
    "age = int(input(\"Enter your age: \"))\n",
    "\n",
    "if age > 17:\n",
    "    print(\"You are Eligible to Vote!\")\n",
    "else:\n",
    "    print(\"You are not Eligible to vote!\")"
   ]
  },
  {
   "cell_type": "markdown",
   "metadata": {},
   "source": [
    "\n",
    "3) Write a program to check whether a number entered by user is even or odd."
   ]
  },
  {
   "cell_type": "code",
   "execution_count": 12,
   "metadata": {},
   "outputs": [
    {
     "name": "stdout",
     "output_type": "stream",
     "text": [
      "The number is odd\n"
     ]
    }
   ],
   "source": [
    "user_num = int(input(\"Enter a Number: \"))\n",
    "\n",
    "if (user_num % 2) == 0:\n",
    "    print(\"The number is even\")\n",
    "else:\n",
    "    print(\"The number is odd\")"
   ]
  },
  {
   "cell_type": "markdown",
   "metadata": {},
   "source": [
    "4) Write a program to check whether a number is divisible by 7 or not.\n",
    "Show Answer"
   ]
  },
  {
   "cell_type": "code",
   "execution_count": 13,
   "metadata": {},
   "outputs": [
    {
     "name": "stdout",
     "output_type": "stream",
     "text": [
      "49 is divisible by 7\n"
     ]
    }
   ],
   "source": [
    "user_num = int(input(\"Enter a Number to check if it's divisible by 7: \"))\n",
    "\n",
    "if user_num % 7 == 0:\n",
    "    print(user_num, \"is divisible by 7\")\n",
    "else:\n",
    "    print(user_num, \"is not divisible by 7\")"
   ]
  },
  {
   "cell_type": "markdown",
   "metadata": {},
   "source": [
    "5) Write a program to display \n",
    "\"Hello\" if a number entered by user is a multiple of five , otherwise print \"Bye\"."
   ]
  },
  {
   "cell_type": "code",
   "execution_count": 16,
   "metadata": {},
   "outputs": [
    {
     "name": "stdout",
     "output_type": "stream",
     "text": [
      "Hello\n"
     ]
    }
   ],
   "source": [
    "user_num = int(input(\"Enter a Number: \"))\n",
    "\n",
    "if user_num % 5 == 0:\n",
    "    print(\"Hello\")\n",
    "else:\n",
    "    print(\"Bye\")"
   ]
  },
  {
   "cell_type": "markdown",
   "metadata": {},
   "source": [
    "7) Write a program to display the last digit of a number.\n"
   ]
  },
  {
   "cell_type": "code",
   "execution_count": 20,
   "metadata": {},
   "outputs": [
    {
     "name": "stdout",
     "output_type": "stream",
     "text": [
      "The last digit of  -12345  is:  5\n"
     ]
    }
   ],
   "source": [
    "num = int(input(\"Enter a Number: \"))\n",
    "\n",
    "last_digit = num % 10\n",
    "\n",
    "print(\"The last digit of \",num,\" is: \", last_digit)"
   ]
  },
  {
   "cell_type": "markdown",
   "metadata": {},
   "source": [
    "9) Take values of length and breadth of a rectangle from user and print if it is square or rectangle."
   ]
  },
  {
   "cell_type": "code",
   "execution_count": 23,
   "metadata": {},
   "outputs": [
    {
     "name": "stdout",
     "output_type": "stream",
     "text": [
      "It's a Rectangle\n"
     ]
    }
   ],
   "source": [
    "length = float(input(\"Enter the Length: \"))\n",
    "breadth = float(input(\"Enter the Breadth: \"))\n",
    "\n",
    "if length == breadth:\n",
    "    print(\"It's a Square\")\n",
    "elif (length > breadth) | (breadth > length):\n",
    "    print(\"It's a Rectangle\")"
   ]
  },
  {
   "cell_type": "markdown",
   "metadata": {},
   "source": [
    "10) Take two int values from user and print greatest among them."
   ]
  },
  {
   "cell_type": "code",
   "execution_count": 24,
   "metadata": {},
   "outputs": [
    {
     "name": "stdout",
     "output_type": "stream",
     "text": [
      "num2 is greater than num1\n"
     ]
    }
   ],
   "source": [
    "num1 = int(input(\"Enter Number 1: \"))\n",
    "num2 = int(input(\"Enter Number 2: \"))\n",
    "\n",
    "if num1 > num2:\n",
    "    print(\"num1 is greater than num2\")\n",
    "else:\n",
    "    print(\"num2 is greater than num1\")"
   ]
  },
  {
   "cell_type": "markdown",
   "metadata": {},
   "source": [
    "11) A shop will give discount of 10% if the cost of purchased quantity is more than 1000.\n",
    "Ask user for quantity\n",
    "Suppose, one unit will cost 100.\n",
    "Judge and print total cost for user."
   ]
  },
  {
   "cell_type": "code",
   "execution_count": 25,
   "metadata": {},
   "outputs": [
    {
     "name": "stdout",
     "output_type": "stream",
     "text": [
      "Your Total Price after discount is:  1350.0\n"
     ]
    }
   ],
   "source": [
    "price_of_1_unit = 100\n",
    "user_quantity = int(input(\"Enter quantity of items: \"))\n",
    "total_price_of_units = price_of_1_unit * user_quantity\n",
    "\n",
    "if total_price_of_units > 1000:\n",
    "    discount_percentage = 10 / 100\n",
    "    total_price_of_units -= (total_price_of_units * discount_percentage)\n",
    "    print(\"Your Total Price after discount is: \", total_price_of_units)\n",
    "else:\n",
    "    print(\"Thanks for Shopping!\")"
   ]
  },
  {
   "cell_type": "markdown",
   "metadata": {},
   "source": [
    "12) A school has following rules for grading system:\n",
    "\n",
    "a. Below 25 - F\n",
    "\n",
    "b. 25 to 45 - E\n",
    "\n",
    "c. 45 to 50 - D\n",
    "\n",
    "d. 50 to 60 - C\n",
    "\n",
    "e. 60 to 80 - B\n",
    "\n",
    "f. Above 80 - A\n",
    "\n",
    "Ask user to enter marks and print the corresponding grade."
   ]
  },
  {
   "cell_type": "code",
   "execution_count": 26,
   "metadata": {},
   "outputs": [
    {
     "name": "stdout",
     "output_type": "stream",
     "text": [
      "You have obtained D Grade\n"
     ]
    }
   ],
   "source": [
    "student_marks = int(input(\"Enter your Marks: \"))\n",
    "\n",
    "if student_marks > 80:\n",
    "    print(\"You have obtained A Grade\")\n",
    "elif student_marks > 60 and student_marks <= 80:\n",
    "    print(\"You have obtained B Grade\")\n",
    "elif student_marks > 50 and student_marks <= 60:\n",
    "    print(\"You have obtained C Grade\")\n",
    "elif student_marks > 45 and student_marks <= 50:\n",
    "    print(\"You have obtained D Grade\")\n",
    "elif student_marks > 25 and student_marks <= 45:\n",
    "    print(\"You have obtained E Grade\")\n",
    "elif student_marks <= 25:\n",
    "    print(\"You have obtained F Grade\")"
   ]
  },
  {
   "cell_type": "markdown",
   "metadata": {},
   "source": [
    "14)A student will not be allowed to sit in exam if his/her attendence is less than 75%.\n",
    "\n",
    "Take following input from user\n",
    "\n",
    "- Number of classes held\n",
    "\n",
    "- Number of classes attended.\n",
    "\n",
    "And print\n",
    "\n",
    "- percentage of class attended\n",
    "\n",
    "- Is student is allowed to sit in exam or not.\n"
   ]
  },
  {
   "cell_type": "code",
   "execution_count": null,
   "metadata": {},
   "outputs": [
    {
     "name": "stdout",
     "output_type": "stream",
     "text": [
      "You are Allowed to sit in the Exam!\n"
     ]
    }
   ],
   "source": [
    "classes_held = int(input(\"Enter the number of Classes held: \")) #Let's say 20\n",
    "classes_attended = int(input(\"Enter the number of Classes attended: \")) #Let's say 15\n",
    "\n",
    "attendance_percentage = (classes_attended * 100) / classes_held\n",
    "\n",
    "if attendance_percentage >= 75:\n",
    "    print(\"You are Allowed to sit in the Exam!\")\n",
    "else:\n",
    "    print(\"You are Not Allowed to sit in the Exam!\")"
   ]
  },
  {
   "cell_type": "markdown",
   "metadata": {},
   "source": [
    "15) Modify the above question to allow student to sit if he/she has medical cause. Ask user if he/she has medical cause or not ( 'Y' or 'N' ) and print accordingly."
   ]
  },
  {
   "cell_type": "code",
   "execution_count": 2,
   "metadata": {},
   "outputs": [
    {
     "name": "stdout",
     "output_type": "stream",
     "text": [
      "You are Not Allowed to sit in the Exam!\n"
     ]
    }
   ],
   "source": [
    "classes_held = int(input(\"Enter the number of Classes held: \")) #Let's say 20\n",
    "classes_attended = int(input(\"Enter the number of Classes attended: \")) #Let's say 10\n",
    "\n",
    "attendance_percentage = (classes_attended * 100) / classes_held\n",
    "\n",
    "medical_emergency = input(\"Did you have a medical emergency? (Y/N): \") #Let's say Y\n",
    "\n",
    "if attendance_percentage >= 75:\n",
    "    print(\"You are Allowed to sit in the Exam!\")\n",
    "elif medical_emergency == \"Y\":\n",
    "    print(\"You are Allowed to sit in the Exam!\")\n",
    "else:\n",
    "    print(\"You are Not Allowed to sit in the Exam!\")"
   ]
  },
  {
   "cell_type": "markdown",
   "metadata": {},
   "source": [
    "16) Write a program to check if a year is leap year or not.\n",
    "\n",
    "If a year is divisible by 4 then it is leap year but if the year is century year like 2000, 1900, 2100 then it must be divisible by 400."
   ]
  },
  {
   "cell_type": "code",
   "execution_count": 27,
   "metadata": {},
   "outputs": [
    {
     "name": "stdout",
     "output_type": "stream",
     "text": [
      "The year 2004 is a leap year\n"
     ]
    }
   ],
   "source": [
    "year = int(input(\"Enter the Year: \"))\n",
    "\n",
    "if year % 4 == 0:\n",
    "    if year % 100 == 0:\n",
    "        if year % 400 == 0:\n",
    "            print(f\"The year {year} is a leap year\")\n",
    "        else:\n",
    "            print(f\"The year {year} is not a leap year\")\n",
    "    else:\n",
    "        print(f\"The year {year} is a leap year\")\n",
    "else:\n",
    "    print(f\"The year {year} is not a leap year\")"
   ]
  },
  {
   "cell_type": "markdown",
   "metadata": {},
   "source": [
    "17) Ask user to enter age, gender ( M or F ), marital status ( Y or N ) and then using following rules print their place of service.\n",
    "\n",
    "if employee is female, then she will work only in urban areas.\n",
    "\n",
    "if employee is a male and age is in between 20 to 40 then he may work in anywhere\n",
    "\n",
    "if employee is male and age is in between 40 t0 60 then he will work in urban areas only.\n",
    "\n",
    "And any other input of age should print \"ERROR\""
   ]
  },
  {
   "cell_type": "code",
   "execution_count": 12,
   "metadata": {},
   "outputs": [
    {
     "name": "stdout",
     "output_type": "stream",
     "text": [
      "You can work only in Urban Area's\n"
     ]
    }
   ],
   "source": [
    "user_age = int(input(\"Enter your Age: \"))\n",
    "\n",
    "if (user_age >= 20 | user_age <= 60):\n",
    "    user_gender = input(\"Enter your Gender (M/F): \")\n",
    "    user_marital_status = input(\"Enter your Marital Status (M/S): \")\n",
    "\n",
    "    if (user_gender == \"F\"):\n",
    "        print(\"You can work only in Urban Area's\")\n",
    "    elif (user_gender == \"M\") and (user_age >= 20 | user_age <= 40):\n",
    "        print(\"You can work Anywhere\")\n",
    "    elif (user_gender == \"M\") and (user_age >= 40 | user_age <= 60):\n",
    "        print(\"You can work only in Urban Area's\")\n",
    "else:\n",
    "    print(\"ERROR\")\n",
    "          "
   ]
  },
  {
   "cell_type": "markdown",
   "metadata": {},
   "source": [
    "6) Write a program to calculate the electricity bill (accept number of unit from user) according to the following criteria :\n",
    "     Unit                                                     Price  \n",
    "uptp 100 units                                             no charge\n",
    "Next 200 units                                              Rs 5 per unit\n",
    "After 200 units                                             Rs 10 per unit\n",
    "(For example if input unit is 350 than total bill amount is Rs.3500\n",
    "(For example if input unit is 97 than total bill amount is Rs.0\n",
    "(For example if input unit is 150 than total bill amount is Rs.750"
   ]
  },
  {
   "cell_type": "code",
   "execution_count": 24,
   "metadata": {},
   "outputs": [
    {
     "name": "stdout",
     "output_type": "stream",
     "text": [
      "Charges: Rs.10 per unit\n",
      "Total Charges: Rs. 1500\n"
     ]
    }
   ],
   "source": [
    "# The Statement given in the problem has a few issues in it.\n",
    "# The following code has been written to address the statement and provide a solution.\n",
    "\n",
    "user_unit = int(input(\"Enter amount of units: \"))\n",
    "bill = 0\n",
    "\n",
    "if (user_unit <= 100):\n",
    "    print(\"No Charges!\")\n",
    "\n",
    "elif (user_unit <= 300):\n",
    "    print(\"Charges: Rs.5 per unit\")\n",
    "    bill = (user_unit - 100) * 5\n",
    "    print(\"Total Charges: Rs.\", bill)\n",
    "\n",
    "elif (user_unit > 300):\n",
    "    print(\"Charges: Rs.10 per unit\")\n",
    "    bill = (200 * 5) + ((user_unit - 300) * 10)\n",
    "    print(\"Total Charges: Rs.\", bill)"
   ]
  },
  {
   "cell_type": "markdown",
   "metadata": {},
   "source": [
    "13) Take input of age of 3 people by user and determine oldest and youngest among them."
   ]
  },
  {
   "cell_type": "code",
   "execution_count": 25,
   "metadata": {},
   "outputs": [
    {
     "name": "stdout",
     "output_type": "stream",
     "text": [
      "User 1 is the oldest & User 2 is the youngest\n"
     ]
    }
   ],
   "source": [
    "user1 = int(input(\"Enter Age for User 1: \"))\n",
    "user2 = int(input(\"Enter Age for User 2: \"))\n",
    "user3 = int(input(\"Enter Age for User 3: \"))\n",
    "\n",
    "if ((user1 > user2) and (user1 > user3)) and (user2 > user3):\n",
    "    print(\"User 1 is the oldest & User 3 is the youngest\")\n",
    "elif ((user1 > user2) and (user1 > user3)) and (user3 > user2):\n",
    "    print(\"User 1 is the oldest & User 2 is the youngest\")\n",
    "elif ((user2 > user1) and (user2 > user3)) and (user1 > user3):\n",
    "    print(\"User 2 is the oldest & User 3 is the youngest\")\n",
    "elif ((user2 > user1) and (user2 > user3)) and (user3 > user1):\n",
    "    print(\"User 2 is the oldest & User 1 is the youngest\")\n",
    "elif ((user3 > user1) and (user3 > user3)) and (user1 > user2):\n",
    "    print(\"User 3 is the oldest & User 2 is the youngest\")\n",
    "elif ((user3 > user1) and (user3 > user3)) and (user2 > user1):\n",
    "    print(\"User 3 is the oldest & User 1 is the youngest\")"
   ]
  }
 ],
 "metadata": {
  "kernelspec": {
   "display_name": "base",
   "language": "python",
   "name": "python3"
  },
  "language_info": {
   "codemirror_mode": {
    "name": "ipython",
    "version": 3
   },
   "file_extension": ".py",
   "mimetype": "text/x-python",
   "name": "python",
   "nbconvert_exporter": "python",
   "pygments_lexer": "ipython3",
   "version": "3.12.7"
  }
 },
 "nbformat": 4,
 "nbformat_minor": 2
}
