{
 "cells": [
  {
   "cell_type": "code",
   "execution_count": null,
   "id": "775604de-4388-4fc1-9bcc-16ac6ffeb69b",
   "metadata": {},
   "outputs": [],
   "source": [
    "# List for use below\n",
    "\n",
    "fruits = [\"apple\", \"banana\", \"orange\", \"pineapple\"]"
   ]
  },
  {
   "cell_type": "markdown",
   "id": "47ca5242",
   "metadata": {},
   "source": [
    "### LISTS"
   ]
  },
  {
   "cell_type": "code",
   "execution_count": 3,
   "id": "58a2e216",
   "metadata": {},
   "outputs": [],
   "source": [
    "fruits.append(\"strawberry\")"
   ]
  },
  {
   "cell_type": "code",
   "execution_count": 4,
   "id": "8867e115",
   "metadata": {},
   "outputs": [],
   "source": [
    "fruits.clear()"
   ]
  },
  {
   "cell_type": "code",
   "execution_count": 5,
   "id": "8e496f2b",
   "metadata": {},
   "outputs": [
    {
     "data": {
      "text/plain": [
       "[]"
      ]
     },
     "execution_count": 5,
     "metadata": {},
     "output_type": "execute_result"
    }
   ],
   "source": [
    "fruits"
   ]
  },
  {
   "cell_type": "code",
   "execution_count": 6,
   "id": "ab19aba2",
   "metadata": {},
   "outputs": [
    {
     "data": {
      "text/plain": [
       "1"
      ]
     },
     "execution_count": 6,
     "metadata": {},
     "output_type": "execute_result"
    }
   ],
   "source": [
    "fruits = [\"apple\", \"banana\", \"orange\", \"pineapple\"]\n",
    "\n",
    "fruits.count(\"apple\")"
   ]
  },
  {
   "cell_type": "code",
   "execution_count": null,
   "id": "bf54e85d",
   "metadata": {},
   "outputs": [
    {
     "data": {
      "text/plain": [
       "['apple', 'banana', 'orange', 'pineapple']"
      ]
     },
     "execution_count": 7,
     "metadata": {},
     "output_type": "execute_result"
    }
   ],
   "source": [
    "fruits_copy = fruits.copy() # Shallow Copy\n",
    "fruits_copy"
   ]
  },
  {
   "cell_type": "code",
   "execution_count": 8,
   "id": "ac67ee91",
   "metadata": {},
   "outputs": [
    {
     "data": {
      "text/plain": [
       "['apple', 'banana', 'orange', 'pineapple', 'strawberry', 'mango']"
      ]
     },
     "execution_count": 8,
     "metadata": {},
     "output_type": "execute_result"
    }
   ],
   "source": [
    "fruits.extend([\"strawberry\", \"mango\"])\n",
    "fruits"
   ]
  },
  {
   "cell_type": "code",
   "execution_count": null,
   "id": "21aeadd0",
   "metadata": {},
   "outputs": [
    {
     "data": {
      "text/plain": [
       "0"
      ]
     },
     "execution_count": 13,
     "metadata": {},
     "output_type": "execute_result"
    }
   ],
   "source": [
    "# index gives us the index of the value we want to find\n",
    "fruits.index(\"apple\", 0, 5)"
   ]
  },
  {
   "cell_type": "code",
   "execution_count": 14,
   "id": "0c1ea7c5",
   "metadata": {},
   "outputs": [
    {
     "data": {
      "text/plain": [
       "['apple', 'banana', 'cherry', 'orange', 'pineapple', 'strawberry', 'mango']"
      ]
     },
     "execution_count": 14,
     "metadata": {},
     "output_type": "execute_result"
    }
   ],
   "source": [
    "fruits.insert(2, \"cherry\")\n",
    "fruits"
   ]
  },
  {
   "cell_type": "code",
   "execution_count": 16,
   "id": "66454f0b",
   "metadata": {},
   "outputs": [
    {
     "name": "stdout",
     "output_type": "stream",
     "text": [
      "strawberry\n"
     ]
    },
    {
     "data": {
      "text/plain": [
       "['apple', 'banana', 'cherry', 'orange', 'mango']"
      ]
     },
     "execution_count": 16,
     "metadata": {},
     "output_type": "execute_result"
    }
   ],
   "source": [
    "fruits_new = fruits.pop(4)\n",
    "print(fruits_new)\n",
    "fruits"
   ]
  },
  {
   "cell_type": "code",
   "execution_count": null,
   "id": "be7cc4c3",
   "metadata": {},
   "outputs": [
    {
     "name": "stdout",
     "output_type": "stream",
     "text": [
      "None\n"
     ]
    },
    {
     "data": {
      "text/plain": [
       "['apple', 'banana', 'cherry', 'mango']"
      ]
     },
     "execution_count": 17,
     "metadata": {},
     "output_type": "execute_result"
    }
   ],
   "source": [
    "fruits.remove(\"orange\")\n",
    "fruits"
   ]
  },
  {
   "cell_type": "code",
   "execution_count": 18,
   "id": "e400191e",
   "metadata": {},
   "outputs": [
    {
     "data": {
      "text/plain": [
       "['mango', 'cherry', 'banana', 'apple']"
      ]
     },
     "execution_count": 18,
     "metadata": {},
     "output_type": "execute_result"
    }
   ],
   "source": [
    "fruits.reverse()\n",
    "fruits"
   ]
  },
  {
   "cell_type": "code",
   "execution_count": null,
   "id": "689bd272",
   "metadata": {},
   "outputs": [
    {
     "data": {
      "text/plain": [
       "['apple', 'banana', 'cherry', 'mango']"
      ]
     },
     "execution_count": 19,
     "metadata": {},
     "output_type": "execute_result"
    }
   ],
   "source": [
    "# To print in Ascending Order (Default)\n",
    "fruits.sort()\n",
    "fruits"
   ]
  },
  {
   "cell_type": "code",
   "execution_count": null,
   "id": "d826aafb",
   "metadata": {},
   "outputs": [
    {
     "data": {
      "text/plain": [
       "['mango', 'cherry', 'banana', 'apple']"
      ]
     },
     "execution_count": 24,
     "metadata": {},
     "output_type": "execute_result"
    }
   ],
   "source": [
    "# To print in Reverse Order\n",
    "fruits.sort(reverse=True)\n",
    "fruits"
   ]
  },
  {
   "cell_type": "code",
   "execution_count": null,
   "id": "09d35e46",
   "metadata": {},
   "outputs": [
    {
     "data": {
      "text/plain": [
       "['mango', 'apple', 'cherry', 'banana']"
      ]
     },
     "execution_count": 25,
     "metadata": {},
     "output_type": "execute_result"
    }
   ],
   "source": [
    "# To sort keeping length in mind\n",
    "fruits.sort(key=len, reverse=False)\n",
    "fruits"
   ]
  },
  {
   "cell_type": "markdown",
   "id": "9fa92f27",
   "metadata": {},
   "source": [
    "### TUPLE"
   ]
  },
  {
   "cell_type": "code",
   "execution_count": 28,
   "id": "8f77d5c7",
   "metadata": {},
   "outputs": [
    {
     "data": {
      "text/plain": [
       "1"
      ]
     },
     "execution_count": 28,
     "metadata": {},
     "output_type": "execute_result"
    }
   ],
   "source": [
    "capitals = (\"peshawar\", \"quetta\", \"islamabad\", \"karachi\", \"lahore\")\n",
    "\n",
    "capitals.count(\"lahore\")"
   ]
  },
  {
   "cell_type": "code",
   "execution_count": 29,
   "id": "163757af",
   "metadata": {},
   "outputs": [
    {
     "data": {
      "text/plain": [
       "2"
      ]
     },
     "execution_count": 29,
     "metadata": {},
     "output_type": "execute_result"
    }
   ],
   "source": [
    "capitals.index(\"islamabad\", 2, )"
   ]
  },
  {
   "cell_type": "markdown",
   "id": "dcc13f31",
   "metadata": {},
   "source": [
    "### DICTIONARY"
   ]
  },
  {
   "cell_type": "code",
   "execution_count": 52,
   "id": "3bbba3e8",
   "metadata": {},
   "outputs": [],
   "source": [
    "# Dictonary for use below\n",
    "\"\"\"\n",
    "bank_details =[\n",
    "    {                                   # Index 0\n",
    "        \"Account_Number\" : 1,\n",
    "        \"Name\" : \"Abdullah\",\n",
    "        \"Balance\" : 1000,\n",
    "    },\n",
    "    {                                   # Index 1\n",
    "        \"Account_Number\" : 2,\n",
    "        \"Name\" : \"Qasim\",\n",
    "        \"Balance\" : 3000,\n",
    "    },\n",
    "    {                                   # Index 2\n",
    "        \"Account_Number\" : 3,\n",
    "        \"Name\" : \"Altaf\",\n",
    "        \"Balance\" : 2000,\n",
    "    }\n",
    "]\n",
    "\"\"\"\n",
    "\n",
    "bank_details ={\n",
    "    1 : {\n",
    "        \"Name\" : \"Abdullah\",\n",
    "        \"Balance\" : 1000,\n",
    "    },\n",
    "    2 : {\n",
    "        \"Name\" : \"Qasim\",\n",
    "        \"Balance\" : 3000,\n",
    "    },\n",
    "    3 : {\n",
    "        \"Name\" : \"Altaf\",\n",
    "        \"Balance\" : 2000,\n",
    "    }\n",
    "}"
   ]
  },
  {
   "cell_type": "code",
   "execution_count": 31,
   "id": "68df3978",
   "metadata": {},
   "outputs": [
    {
     "name": "stdout",
     "output_type": "stream",
     "text": [
      "{1: {'Name': 'Abdullah', 'Balance': 1000}, 2: {'Name': 'Qasim', 'Balance': 3000}, 3: {'Name': 'Altaf', 'Balance': 2000}}\n"
     ]
    }
   ],
   "source": [
    "bank_details_copy = bank_details.copy()\n",
    "print(bank_details_copy)"
   ]
  },
  {
   "cell_type": "code",
   "execution_count": 34,
   "id": "ba05a036",
   "metadata": {},
   "outputs": [
    {
     "data": {
      "text/plain": [
       "{'Name': 'Qasim', 'Balance': 3000}"
      ]
     },
     "execution_count": 34,
     "metadata": {},
     "output_type": "execute_result"
    }
   ],
   "source": [
    "bank_details.get(2)"
   ]
  },
  {
   "cell_type": "code",
   "execution_count": 35,
   "id": "12780188",
   "metadata": {},
   "outputs": [
    {
     "data": {
      "text/plain": [
       "dict_items([(1, {'Name': 'Abdullah', 'Balance': 1000}), (2, {'Name': 'Qasim', 'Balance': 3000}), (3, {'Name': 'Altaf', 'Balance': 2000})])"
      ]
     },
     "execution_count": 35,
     "metadata": {},
     "output_type": "execute_result"
    }
   ],
   "source": [
    "bank_details.items()"
   ]
  },
  {
   "cell_type": "code",
   "execution_count": 36,
   "id": "2cf7241f",
   "metadata": {},
   "outputs": [
    {
     "data": {
      "text/plain": [
       "dict_keys([1, 2, 3])"
      ]
     },
     "execution_count": 36,
     "metadata": {},
     "output_type": "execute_result"
    }
   ],
   "source": [
    "bank_details.keys()"
   ]
  },
  {
   "cell_type": "code",
   "execution_count": 37,
   "id": "66542d00",
   "metadata": {},
   "outputs": [
    {
     "data": {
      "text/plain": [
       "{'Name': 'Altaf', 'Balance': 2000}"
      ]
     },
     "execution_count": 37,
     "metadata": {},
     "output_type": "execute_result"
    }
   ],
   "source": [
    "bank_details.pop(3)"
   ]
  },
  {
   "cell_type": "code",
   "execution_count": 38,
   "id": "0582864a",
   "metadata": {},
   "outputs": [
    {
     "data": {
      "text/plain": [
       "dict_items([(1, {'Name': 'Abdullah', 'Balance': 1000}), (2, {'Name': 'Qasim', 'Balance': 3000})])"
      ]
     },
     "execution_count": 38,
     "metadata": {},
     "output_type": "execute_result"
    }
   ],
   "source": [
    "bank_details.items()"
   ]
  },
  {
   "cell_type": "code",
   "execution_count": 44,
   "id": "5751a035",
   "metadata": {},
   "outputs": [
    {
     "data": {
      "text/plain": [
       "(2, {'Name': 'Qasim', 'Balance': 3000})"
      ]
     },
     "execution_count": 44,
     "metadata": {},
     "output_type": "execute_result"
    }
   ],
   "source": [
    "bank_details.popitem()"
   ]
  },
  {
   "cell_type": "code",
   "execution_count": 46,
   "id": "afb8eadf",
   "metadata": {},
   "outputs": [
    {
     "data": {
      "text/plain": [
       "{'Name': 'Abdullah', 'Balance': 1000}"
      ]
     },
     "execution_count": 46,
     "metadata": {},
     "output_type": "execute_result"
    }
   ],
   "source": [
    "bank_details.setdefault(1)"
   ]
  },
  {
   "cell_type": "code",
   "execution_count": 48,
   "id": "f8a80d7c",
   "metadata": {},
   "outputs": [
    {
     "data": {
      "text/plain": [
       "dict_items([(1, {'Name': 'Abdullah', 'Balance': 1000}), (2, {'Name': 'Qasim', 'Balance': 3000}), (3, {'Name': 'Altaf', 'Balance': 2000})])"
      ]
     },
     "execution_count": 48,
     "metadata": {},
     "output_type": "execute_result"
    }
   ],
   "source": [
    "bank_details.items()"
   ]
  },
  {
   "cell_type": "code",
   "execution_count": 54,
   "id": "5e8db8a8",
   "metadata": {},
   "outputs": [
    {
     "data": {
      "text/plain": [
       "{1: {'Name': 'Abdullah', 'Balance': 1000},\n",
       " 2: {'Name': 'Qasim', 'Balance': 2000},\n",
       " 3: {'Name': 'Altaf', 'Balance': 2000}}"
      ]
     },
     "execution_count": 54,
     "metadata": {},
     "output_type": "execute_result"
    }
   ],
   "source": [
    "bank_details[2][\"Balance\"] = 2000\n",
    "bank_details"
   ]
  },
  {
   "cell_type": "code",
   "execution_count": 55,
   "id": "78ed41e9",
   "metadata": {},
   "outputs": [
    {
     "name": "stdout",
     "output_type": "stream",
     "text": [
      "1 --> {'Name': 'Abdullah', 'Balance': 1000}\n",
      "2 --> {'Name': 'Qasim', 'Balance': 2000}\n",
      "3 --> {'Name': 'Saad', 'Balance': 5000}\n"
     ]
    }
   ],
   "source": [
    "bank_details[3].update({\"Name\" : \"Saad\", \"Balance\" : 5000})\n",
    "\n",
    "for key, value in bank_details.items():\n",
    "    print(key, \"-->\", value)"
   ]
  },
  {
   "cell_type": "code",
   "execution_count": 56,
   "id": "f2554d4e",
   "metadata": {},
   "outputs": [
    {
     "name": "stdout",
     "output_type": "stream",
     "text": [
      "{1: 0, 2: 0, 3: 0, 4: 0}\n"
     ]
    }
   ],
   "source": [
    "keys = [1, 2, 3, 4]\n",
    "new_bank_details = bank_details.fromkeys(keys, 0)\n",
    "print(new_bank_details)"
   ]
  },
  {
   "cell_type": "code",
   "execution_count": 60,
   "id": "03438f5c",
   "metadata": {},
   "outputs": [
    {
     "name": "stdout",
     "output_type": "stream",
     "text": [
      "[[1, 2], [3, 4]]\n",
      "[[10, 2], [3, 4]]\n"
     ]
    }
   ],
   "source": [
    "# Performing Deep Copy, The copied Data stays unaffected\n",
    "\n",
    "import copy\n",
    "\n",
    "original_data = [[1,2], [3,4]]\n",
    "deep_copy_data = copy.deepcopy(original_data)\n",
    "\n",
    "deep_copy_data[0][0] = 10\n",
    "\n",
    "print(original_data)\n",
    "print(deep_copy_data)"
   ]
  },
  {
   "cell_type": "code",
   "execution_count": null,
   "id": "60144cc0",
   "metadata": {},
   "outputs": [
    {
     "name": "stdout",
     "output_type": "stream",
     "text": [
      "[[10, 2], [3, 4]]\n",
      "[[10, 2], [3, 4]]\n"
     ]
    }
   ],
   "source": [
    "# Performing Shallow Copy, The copied Data changes the original data as well\n",
    "\n",
    "original_data = [[1,2], [3,4]]\n",
    "shallow_copy_data = copy.copy(original_data)\n",
    "\n",
    "shallow_copy_data[0][0] = 10\n",
    "\n",
    "print(original_data)\n",
    "print(deep_copy_data)"
   ]
  }
 ],
 "metadata": {
  "kernelspec": {
   "display_name": "base",
   "language": "python",
   "name": "python3"
  },
  "language_info": {
   "codemirror_mode": {
    "name": "ipython",
    "version": 3
   },
   "file_extension": ".py",
   "mimetype": "text/x-python",
   "name": "python",
   "nbconvert_exporter": "python",
   "pygments_lexer": "ipython3",
   "version": "3.12.7"
  }
 },
 "nbformat": 4,
 "nbformat_minor": 5
}
